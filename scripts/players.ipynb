{
 "cells": [
  {
   "cell_type": "markdown",
   "metadata": {},
   "source": [
    "# Clean up Players data\n",
    "\n",
    "raw_data_file = \"../raw/retrosheet/players.csv\""
   ]
  },
  {
   "cell_type": "code",
   "execution_count": 19,
   "metadata": {},
   "outputs": [],
   "source": [
    "import pandas as pd\n",
    "import json\n",
    "import csv\n",
    "from collections import defaultdict as ddict"
   ]
  },
  {
   "cell_type": "code",
   "execution_count": 20,
   "metadata": {},
   "outputs": [],
   "source": [
    "df = pd.read_csv(\"../raw/retrosheet/players.csv\")"
   ]
  },
  {
   "cell_type": "code",
   "execution_count": 21,
   "metadata": {},
   "outputs": [],
   "source": [
    "# Helper functions for functional dependencies.\n",
    "\n",
    "# Print violation of functional dependencies.\n",
    "def print_fd(deps, key, dep):\n",
    "    print(key, dep, sep=\"\\t\")\n",
    "    for k, v in deps.items():\n",
    "        if len(v) > 1:\n",
    "            print(f\"{k}:=\\t{v}\")\n",
    "\n",
    "# Extract the functional dependencies from the dataframe.\n",
    "def fd(pdf, key, dep):\n",
    "    dets = ddict(set)\n",
    "    pdf.apply(lambda x: dets[x[key]].add(x[dep]), axis=1)\n",
    "    print_fd(dets, key, dep)\n",
    "    return dets\n",
    "\n",
    "# Replace based on functional dependencies.\n",
    "def replace_fd(pdf, index, key, rmap):\n",
    "    if pdf.loc[index, key] in rmap:\n",
    "        pdf.loc[index, key] = rmap[pdf.loc[index, key]]"
   ]
  },
  {
   "cell_type": "code",
   "execution_count": 22,
   "metadata": {},
   "outputs": [
    {
     "data": {
      "text/plain": [
       "Index(['playerID', 'birthYear', 'birthMonth', 'birthDay', 'birthCountry',\n",
       "       'birthState', 'birthCity', 'deathYear', 'deathMonth', 'deathDay',\n",
       "       'deathCountry', 'deathState', 'deathCity', 'nameFirst', 'nameLast',\n",
       "       'nameGiven', 'weight', 'height', 'bats', 'throws', 'debut', 'finalGame',\n",
       "       'retroID', 'bbrefID'],\n",
       "      dtype='object')"
      ]
     },
     "execution_count": 22,
     "metadata": {},
     "output_type": "execute_result"
    }
   ],
   "source": [
    "df.keys()"
   ]
  },
  {
   "cell_type": "code",
   "execution_count": 23,
   "metadata": {},
   "outputs": [
    {
     "name": "stdout",
     "output_type": "stream",
     "text": [
      "playerID\tretroID\n"
     ]
    }
   ],
   "source": [
    "_ = fd(df, \"playerID\", \"retroID\")"
   ]
  },
  {
   "cell_type": "code",
   "execution_count": 24,
   "metadata": {},
   "outputs": [
    {
     "data": {
      "text/plain": [
       "0"
      ]
     },
     "execution_count": 24,
     "metadata": {},
     "output_type": "execute_result"
    }
   ],
   "source": [
    "df[[\"retroID\"]].duplicated().sum()"
   ]
  },
  {
   "cell_type": "code",
   "execution_count": 25,
   "metadata": {},
   "outputs": [],
   "source": [
    "df_retroIdMap = df[[\"retroID\"]].copy(deep=True)\n",
    "df_retroIdMap[\"ID\"] = range(len(df_retroIdMap))\n",
    "df_retroIdMap.to_csv(\"../processed/data/playerretroID.csv\", index=False)"
   ]
  },
  {
   "cell_type": "code",
   "execution_count": 26,
   "metadata": {},
   "outputs": [],
   "source": [
    "rMapPlayerRetroID = {\n",
    "    row[\"retroID\"]: row[\"ID\"] for _, row in df_retroIdMap.iterrows()\n",
    "}"
   ]
  },
  {
   "cell_type": "code",
   "execution_count": 27,
   "metadata": {},
   "outputs": [],
   "source": [
    "for index in df.index:\n",
    "    replace_fd(df, index, \"retroID\", rMapPlayerRetroID)\n",
    "\n",
    "df.rename(columns={\"retroID\": \"ID\"}, inplace=True)"
   ]
  },
  {
   "cell_type": "code",
   "execution_count": 28,
   "metadata": {},
   "outputs": [],
   "source": [
    "df_playerIDMap = df[[\"playerID\", \"ID\"]].copy(deep=True)\n",
    "df_playerIDMap.to_csv(\"../processed/data/playerID.csv\", index=False)\n",
    "\n",
    "df_bbrefIDMap = df[[\"bbrefID\", \"ID\"]].copy(deep=True)\n",
    "df_bbrefIDMap.to_csv(\"../processed/data/playerbbrefID.csv\", index=False)\n",
    "\n",
    "df.drop(columns=[\"playerID\", \"bbrefID\"], inplace=True)"
   ]
  },
  {
   "cell_type": "code",
   "execution_count": 29,
   "metadata": {},
   "outputs": [
    {
     "data": {
      "text/plain": [
       "Index(['birthYear', 'birthMonth', 'birthDay', 'birthCountry', 'birthState',\n",
       "       'birthCity', 'deathYear', 'deathMonth', 'deathDay', 'deathCountry',\n",
       "       'deathState', 'deathCity', 'nameFirst', 'nameLast', 'nameGiven',\n",
       "       'weight', 'height', 'bats', 'throws', 'debut', 'finalGame', 'ID'],\n",
       "      dtype='object')"
      ]
     },
     "execution_count": 29,
     "metadata": {},
     "output_type": "execute_result"
    }
   ],
   "source": [
    "df.keys()"
   ]
  },
  {
   "cell_type": "code",
   "execution_count": 30,
   "metadata": {},
   "outputs": [],
   "source": [
    "drop_list = [\n",
    "    'deathYear', 'deathMonth', 'deathDay',\n",
    "    'deathCountry', 'deathState', 'deathCity',\n",
    "]"
   ]
  },
  {
   "cell_type": "code",
   "execution_count": 31,
   "metadata": {},
   "outputs": [],
   "source": [
    "df.drop(columns=drop_list, inplace=True)"
   ]
  },
  {
   "cell_type": "code",
   "execution_count": 32,
   "metadata": {},
   "outputs": [
    {
     "name": "stdout",
     "output_type": "stream",
     "text": [
      "ID\tnameFirst\n",
      "ID\tnameLast\n"
     ]
    }
   ],
   "source": [
    "_ = fd(df, \"ID\", \"nameFirst\")\n",
    "_ = fd(df, \"ID\", \"nameLast\")"
   ]
  },
  {
   "cell_type": "code",
   "execution_count": 33,
   "metadata": {},
   "outputs": [],
   "source": [
    "df.drop(columns=[\"finalGame\"], inplace=True)"
   ]
  },
  {
   "cell_type": "code",
   "execution_count": 34,
   "metadata": {},
   "outputs": [],
   "source": [
    "df.to_csv(\"../processed/data/player.csv\", index=False)"
   ]
  },
  {
   "cell_type": "code",
   "execution_count": null,
   "metadata": {},
   "outputs": [],
   "source": []
  }
 ],
 "metadata": {
  "interpreter": {
   "hash": "4e1d9a8909477db77738c33245c29c7265277ef753467dede8cf3f814cde494e"
  },
  "kernelspec": {
   "display_name": "Python 3.9.7 64-bit",
   "language": "python",
   "name": "python3"
  },
  "language_info": {
   "codemirror_mode": {
    "name": "ipython",
    "version": 3
   },
   "file_extension": ".py",
   "mimetype": "text/x-python",
   "name": "python",
   "nbconvert_exporter": "python",
   "pygments_lexer": "ipython3",
   "version": "3.9.7"
  },
  "orig_nbformat": 4
 },
 "nbformat": 4,
 "nbformat_minor": 2
}
