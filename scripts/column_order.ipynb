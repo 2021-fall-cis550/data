{
 "cells": [
  {
   "cell_type": "markdown",
   "metadata": {},
   "source": [
    "# Rearrange columns"
   ]
  },
  {
   "cell_type": "code",
   "execution_count": 30,
   "metadata": {},
   "outputs": [],
   "source": [
    "import pandas as pd"
   ]
  },
  {
   "cell_type": "markdown",
   "metadata": {},
   "source": [
    "## Reorder player.csv"
   ]
  },
  {
   "cell_type": "code",
   "execution_count": 31,
   "metadata": {},
   "outputs": [],
   "source": [
    "player_df = pd.read_csv('../processed/data/player.csv')"
   ]
  },
  {
   "cell_type": "code",
   "execution_count": 32,
   "metadata": {},
   "outputs": [],
   "source": [
    "def get_date(row):\n",
    "    try:\n",
    "        year = int(row['birthYear'])\n",
    "        month = int(row['birthMonth'])\n",
    "        day = int(row['birthDay'])\n",
    "        return f'{year}-{month:02}-{day:02}'\n",
    "    except:\n",
    "        return None\n",
    "\n",
    "bd = [\n",
    "    get_date(row)\n",
    "    for _, row in player_df.iterrows()\n",
    "]"
   ]
  },
  {
   "cell_type": "code",
   "execution_count": 33,
   "metadata": {},
   "outputs": [],
   "source": [
    "player_df['BirthDate'] = bd"
   ]
  },
  {
   "cell_type": "code",
   "execution_count": 34,
   "metadata": {},
   "outputs": [
    {
     "data": {
      "text/plain": [
       "['ID',\n",
       " 'birthYear',\n",
       " 'birthMonth',\n",
       " 'birthDay',\n",
       " 'birthCountry',\n",
       " 'birthState',\n",
       " 'birthCity',\n",
       " 'nameFirst',\n",
       " 'nameLast',\n",
       " 'nameGiven',\n",
       " 'weight',\n",
       " 'height',\n",
       " 'bats',\n",
       " 'throws',\n",
       " 'debut',\n",
       " 'BirthDate']"
      ]
     },
     "execution_count": 34,
     "metadata": {},
     "output_type": "execute_result"
    }
   ],
   "source": [
    "cols = player_df.columns.tolist()\n",
    "cols"
   ]
  },
  {
   "cell_type": "code",
   "execution_count": 35,
   "metadata": {},
   "outputs": [
    {
     "data": {
      "text/plain": [
       "['ID',\n",
       " 'nameFirst',\n",
       " 'nameLast',\n",
       " 'nameGiven',\n",
       " 'birthCity',\n",
       " 'birthState',\n",
       " 'birthCountry',\n",
       " 'BirthDate',\n",
       " 'bats',\n",
       " 'throws',\n",
       " 'weight',\n",
       " 'height',\n",
       " 'debut']"
      ]
     },
     "execution_count": 35,
     "metadata": {},
     "output_type": "execute_result"
    }
   ],
   "source": [
    "cols_new = (\n",
    "    [cols[0]] \n",
    "    + cols[7:10] \n",
    "    + cols[6:3:-1] \n",
    "    + [cols[-1]] \n",
    "    + cols[12:14] \n",
    "    + cols[10:12] \n",
    "    + cols[14:-1]\n",
    ")\n",
    "cols_new"
   ]
  },
  {
   "cell_type": "code",
   "execution_count": 36,
   "metadata": {},
   "outputs": [],
   "source": [
    "player_df_new = player_df[cols_new].copy(deep=True)"
   ]
  },
  {
   "cell_type": "code",
   "execution_count": 37,
   "metadata": {},
   "outputs": [],
   "source": [
    "player_df_new.rename(\n",
    "    columns={\n",
    "        \"nameFirst\": \"FirstName\",\n",
    "        \"nameLast\": \"LastName\",\n",
    "        \"nameGiven\": \"GivenName\",\n",
    "        \"birthCity\": \"BirthCity\",\n",
    "        \"birthState\": \"BirthState\",\n",
    "        \"birthCountry\": \"BirthCountry\",\n",
    "        \"bats\": \"Bats\",\n",
    "        \"throws\": \"Throws\",\n",
    "        \"weight\": \"Weight\",\n",
    "        \"height\": \"Height\",\n",
    "        \"debut\": \"Debut\",\n",
    "    },\n",
    "    inplace=True\n",
    ")"
   ]
  },
  {
   "cell_type": "code",
   "execution_count": 38,
   "metadata": {},
   "outputs": [],
   "source": [
    "player_df_new.to_csv('../processed/tables/player.csv', index=False)"
   ]
  },
  {
   "cell_type": "markdown",
   "metadata": {},
   "source": [
    "## Reorder ..."
   ]
  },
  {
   "cell_type": "code",
   "execution_count": null,
   "metadata": {},
   "outputs": [],
   "source": []
  }
 ],
 "metadata": {
  "interpreter": {
   "hash": "4e1d9a8909477db77738c33245c29c7265277ef753467dede8cf3f814cde494e"
  },
  "kernelspec": {
   "display_name": "Python 3.9.7 64-bit",
   "language": "python",
   "name": "python3"
  },
  "language_info": {
   "codemirror_mode": {
    "name": "ipython",
    "version": 3
   },
   "file_extension": ".py",
   "mimetype": "text/x-python",
   "name": "python",
   "nbconvert_exporter": "python",
   "pygments_lexer": "ipython3",
   "version": "3.9.7"
  },
  "orig_nbformat": 4
 },
 "nbformat": 4,
 "nbformat_minor": 2
}
