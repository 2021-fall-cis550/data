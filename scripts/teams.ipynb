{
 "cells": [
  {
   "cell_type": "code",
   "execution_count": 41,
   "metadata": {},
   "outputs": [],
   "source": [
    "\n",
    "import pandas as pd\n",
    "import json\n",
    "import csv\n",
    "from collections import defaultdict as ddict"
   ]
  },
  {
   "cell_type": "code",
   "execution_count": 42,
   "metadata": {},
   "outputs": [],
   "source": [
    "df = pd.read_csv(\"../raw/retrosheet/teams.csv\")"
   ]
  },
  {
   "cell_type": "code",
   "execution_count": 43,
   "metadata": {},
   "outputs": [],
   "source": [
    "def print_fd(deps, key, dep):\n",
    "    print(key, dep, sep=\"\\t\")\n",
    "    for k, v in deps.items():\n",
    "        if len(v) > 1:\n",
    "            print(f\"{k}:=\\t{v}\")"
   ]
  },
  {
   "cell_type": "code",
   "execution_count": 44,
   "metadata": {},
   "outputs": [],
   "source": [
    "def fd(pdf, key, dep):\n",
    "    dets = ddict(set)\n",
    "    pdf.apply(lambda x: dets[x[key]].add(x[dep]), axis=1)\n",
    "    print_fd(dets, key, dep)\n",
    "    return dets"
   ]
  },
  {
   "cell_type": "code",
   "execution_count": 45,
   "metadata": {},
   "outputs": [
    {
     "name": "stdout",
     "output_type": "stream",
     "text": [
      "teamID\tteamIDretro\n",
      "WAS:=\t{'WSN', 'WAS'}\n",
      "LAA:=\t{'ANA', 'LAA'}\n"
     ]
    }
   ],
   "source": [
    "deps = fd(df, \"teamID\", \"teamIDretro\")\n",
    "# deps = fd(df, \"teamIDretro\", \"teamID\")"
   ]
  },
  {
   "cell_type": "code",
   "execution_count": 46,
   "metadata": {},
   "outputs": [],
   "source": [
    "def replace_fd(pdf, index, key, rmap):\n",
    "    if pdf.loc[index, key] in rmap:\n",
    "        pdf.loc[index, key] = rmap[pdf.loc[index, key]]"
   ]
  },
  {
   "cell_type": "code",
   "execution_count": 47,
   "metadata": {},
   "outputs": [],
   "source": [
    "rretroIDMap = {\n",
    "    \"WSN\": \"WAS\",\n",
    "    \"ANA\": \"LAA\",\n",
    "}"
   ]
  },
  {
   "cell_type": "code",
   "execution_count": 48,
   "metadata": {},
   "outputs": [],
   "source": [
    "# change all ANA in teamIDretro to LAA\n",
    "# change all WSN in teamIDretro to WAS\n",
    "\n",
    "for index in df.index:\n",
    "    replace_fd(df, index, \"teamIDretro\", rretroIDMap)"
   ]
  },
  {
   "cell_type": "code",
   "execution_count": 49,
   "metadata": {},
   "outputs": [
    {
     "name": "stdout",
     "output_type": "stream",
     "text": [
      "teamID\tteamIDretro\n"
     ]
    }
   ],
   "source": [
    "deps = fd(df, \"teamID\", \"teamIDretro\")"
   ]
  },
  {
   "cell_type": "code",
   "execution_count": 50,
   "metadata": {},
   "outputs": [],
   "source": [
    "# drop lgID, franchID, divID, Rank, G, Ghome, DivWin WCWin, LgWin, WSWin column\n",
    "df.drop(columns=[\"lgID\", \"franchID\", \"divID\", \"Rank\", \"G\", \"Ghome\", \"DivWin\", \"WCWin\", \"LgWin\", \"WSWin\"], inplace=True)"
   ]
  },
  {
   "cell_type": "code",
   "execution_count": 60,
   "metadata": {},
   "outputs": [],
   "source": [
    "df_idMap = df[[\"teamID\", \"teamIDretro\"]].drop_duplicates()\n",
    "df_idMap.to_csv(\"../raw/retrosheet/teamIDMap.csv\", index=False)\n",
    "\n",
    "df_retIdMap = df_idMap[[\"teamIDretro\"]].drop_duplicates()\n",
    "df_retIdMap[\"ID\"] = range(len(df_retIdMap))\n",
    "df_retIdMap.to_csv(\"../raw/retrosheet/teamIDretroMap.csv\", index=False)"
   ]
  },
  {
   "cell_type": "code",
   "execution_count": 61,
   "metadata": {},
   "outputs": [
    {
     "data": {
      "text/plain": [
       "Index(['yearID', 'teamID', 'W', 'L', 'R', 'AB', 'H', '2B', '3B', 'HR', 'BB',\n",
       "       'SO', 'SB', 'CS', 'HBP', 'SF', 'RA', 'ER', 'ERA', 'CG', 'SHO', 'SV',\n",
       "       'IPouts', 'HA', 'HRA', 'BBA', 'SOA', 'E', 'DP', 'FP', 'name', 'park',\n",
       "       'attendance', 'BPF', 'PPF', 'teamIDBR', 'teamIDlahman45',\n",
       "       'teamIDretro'],\n",
       "      dtype='object')"
      ]
     },
     "execution_count": 61,
     "metadata": {},
     "output_type": "execute_result"
    }
   ],
   "source": [
    "df.keys()"
   ]
  },
  {
   "cell_type": "code",
   "execution_count": 62,
   "metadata": {},
   "outputs": [],
   "source": [
    "to_drop = ['teamID', 'W', 'L', 'R', 'AB', 'H', '2B', '3B', 'HR', 'BB',\n",
    "       'SO', 'SB', 'CS', 'HBP', 'SF', 'RA', 'ER', 'ERA', 'CG', 'SHO', 'SV',\n",
    "       'IPouts', 'HA', 'HRA', 'BBA', 'SOA', 'E', 'DP', 'FP',\n",
    "       'BPF', 'PPF', 'teamIDBR', 'teamIDlahman45']\n",
    "df.drop(columns=to_drop, inplace=True)"
   ]
  },
  {
   "cell_type": "code",
   "execution_count": 63,
   "metadata": {},
   "outputs": [],
   "source": [
    "df_teamnames = df[[\"yearID\", \"teamIDretro\", \"name\"]].drop_duplicates()\n",
    "df_teamnames.to_csv(\"../raw/retrosheet/teamnames.csv\", index=False)"
   ]
  },
  {
   "cell_type": "code",
   "execution_count": 64,
   "metadata": {},
   "outputs": [],
   "source": [
    "rMapTeamIDRetro = {\n",
    "    row[\"teamIDretro\"]: row[\"ID\"] for _, row in df_retIdMap.iterrows()\n",
    "}"
   ]
  },
  {
   "cell_type": "code",
   "execution_count": 65,
   "metadata": {},
   "outputs": [],
   "source": [
    "for index in df.index:\n",
    "    replace_fd(df, index, \"teamIDretro\", rMapTeamIDRetro)\n",
    "\n",
    "for index in df_idMap.index:\n",
    "    replace_fd(df_idMap, index, \"teamIDretro\", rMapTeamIDRetro)\n",
    "\n",
    "for index in df_teamnames.index:\n",
    "    replace_fd(df_teamnames, index, \"teamIDretro\", rMapTeamIDRetro)"
   ]
  },
  {
   "cell_type": "code",
   "execution_count": 66,
   "metadata": {},
   "outputs": [],
   "source": [
    "df_teamnames.rename(columns={\"teamIDretro\": \"ID\", \"yearID\": \"year\"}, inplace=True)\n",
    "df_idMap.rename(columns={\"teamIDretro\": \"ID\"}, inplace=True)"
   ]
  },
  {
   "cell_type": "code",
   "execution_count": 67,
   "metadata": {},
   "outputs": [],
   "source": [
    "df_teamnames.to_csv(\"../processed/data/teamnames.csv\", index=False)\n",
    "df_idMap.to_csv(\"../processed/data/teamIDMap.csv\", index=False)"
   ]
  },
  {
   "cell_type": "code",
   "execution_count": 68,
   "metadata": {},
   "outputs": [],
   "source": [
    "df.rename(columns={\"teamIDretro\": \"ID\", \"yearID\": \"year\"}, inplace=True)"
   ]
  },
  {
   "cell_type": "code",
   "execution_count": 70,
   "metadata": {},
   "outputs": [
    {
     "name": "stdout",
     "output_type": "stream",
     "text": [
      "park\tID\n",
      "South End Grounds I:=\t{0, 26}\n",
      "Union Grounds (Brooklyn):=\t{4, 29, 31}\n",
      "Jefferson Street Grounds:=\t{16, 32, 5, 46}\n",
      "Haymakers' Grounds:=\t{40, 7}\n",
      "Olympics Grounds:=\t{8, 17, 25}\n",
      "Newington Park:=\t{9, 43, 14}\n",
      "Union Grounds:=\t{10, 11}\n",
      "23rd Street Grounds:=\t{18, 27}\n",
      "Hartford Ball Club Grounds:=\t{19, 29}\n",
      "Sportsman's Park I:=\t{48, 33, 100, 70}\n",
      "Eclipse Park II:=\t{99, 35}\n",
      "Bank Street Grounds:=\t{28, 44}\n",
      "Recreation Park:=\t{42, 75, 52, 47}\n",
      "Eclipse Park I:=\t{99, 45}\n",
      "Oriole Park:=\t{80, 43, 102}\n",
      "nan:=\t{53, 54, 56, 57, 58, 60, 61, 62, 64, 65, 67, 69, 79, 83, 84, 85, 87, 88, 89, 90, 112, 113, 114, 116, 117, 118, 119, 120}\n",
      "League Park I in Cincinnati:=\t{44, 86}\n",
      "Athletic Park:=\t{68, 46}\n",
      "Exposition Park:=\t{75, 76}\n",
      "Union Park:=\t{80, 98}\n",
      "League Park I:=\t{105, 77}\n",
      "Boundary Field:=\t{97, 101}\n",
      "Shibe Park:=\t{108, 52}\n",
      "Sportsman's Park IV:=\t{100, 110}\n",
      "Polo Grounds IV:=\t{50, 130, 111}\n",
      "Wrigley Field:=\t{27, 115}\n",
      "County Stadium:=\t{121, 138}\n",
      "Connie Mack Stadium:=\t{108, 52}\n",
      "Griffith Stadium II:=\t{128, 109}\n",
      "Dodger Stadium:=\t{131, 124, 126}\n",
      "R.F.K. Stadium:=\t{128, 101}\n",
      "Shea Stadium:=\t{130, 111}\n"
     ]
    }
   ],
   "source": [
    "_ = fd(df, \"park\", \"ID\")"
   ]
  },
  {
   "cell_type": "code",
   "execution_count": 71,
   "metadata": {},
   "outputs": [],
   "source": [
    "df.drop(columns=[\"park\"], inplace=True)"
   ]
  },
  {
   "cell_type": "code",
   "execution_count": 73,
   "metadata": {},
   "outputs": [],
   "source": [
    "df_team_attendance = df[[\"year\", \"ID\", \"attendance\"]].drop_duplicates()\n",
    "df_team_attendance.to_csv(\"../processed/data/team_attendance.csv\", index=False)"
   ]
  },
  {
   "cell_type": "code",
   "execution_count": 74,
   "metadata": {},
   "outputs": [],
   "source": [
    "\n",
    "df.drop(columns=[\"name\", \"year\", \"attendance\"], inplace=True)"
   ]
  },
  {
   "cell_type": "code",
   "execution_count": 76,
   "metadata": {},
   "outputs": [],
   "source": [
    "df.drop_duplicates(inplace=True)\n",
    "df.to_csv(\"../processed/data/team.csv\", index=False)"
   ]
  },
  {
   "cell_type": "code",
   "execution_count": null,
   "metadata": {},
   "outputs": [],
   "source": []
  }
 ],
 "metadata": {
  "interpreter": {
   "hash": "4e1d9a8909477db77738c33245c29c7265277ef753467dede8cf3f814cde494e"
  },
  "kernelspec": {
   "display_name": "Python 3.9.7 64-bit",
   "language": "python",
   "name": "python3"
  },
  "language_info": {
   "codemirror_mode": {
    "name": "ipython",
    "version": 3
   },
   "file_extension": ".py",
   "mimetype": "text/x-python",
   "name": "python",
   "nbconvert_exporter": "python",
   "pygments_lexer": "ipython3",
   "version": "3.9.7"
  },
  "orig_nbformat": 4
 },
 "nbformat": 4,
 "nbformat_minor": 2
}
