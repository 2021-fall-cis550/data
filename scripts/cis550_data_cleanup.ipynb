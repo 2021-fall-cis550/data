{
  "nbformat": 4,
  "nbformat_minor": 0,
  "metadata": {
    "colab": {
      "name": "cis550_data_cleanup.ipynb",
      "provenance": [],
      "collapsed_sections": []
    },
    "kernelspec": {
      "name": "python3",
      "display_name": "Python 3"
    },
    "language_info": {
      "name": "python"
    },
    "accelerator": "GPU"
  },
  "cells": [
    {
      "cell_type": "code",
      "metadata": {
        "id": "n_8GQMAn5snB"
      },
      "source": [
        "import numpy as np\n",
        "import pandas as pd"
      ],
      "execution_count": null,
      "outputs": []
    },
    {
      "cell_type": "code",
      "metadata": {
        "id": "r550APM25xkR",
        "colab": {
          "base_uri": "https://localhost:8080/",
          "height": 99
        },
        "outputId": "7f180433-99e4-42a2-eba6-920e295080b5"
      },
      "source": [
        "dir_path = \"drive/MyDrive/cis550_project_events/\"\n",
        "\n",
        "df0 = pd.read_csv(dir_path + \"events.csv.00\")\n",
        "df0.head()"
      ],
      "execution_count": null,
      "outputs": [
        {
          "output_type": "execute_result",
          "data": {
            "text/html": [
              "<div>\n",
              "<style scoped>\n",
              "    .dataframe tbody tr th:only-of-type {\n",
              "        vertical-align: middle;\n",
              "    }\n",
              "\n",
              "    .dataframe tbody tr th {\n",
              "        vertical-align: top;\n",
              "    }\n",
              "\n",
              "    .dataframe thead th {\n",
              "        text-align: right;\n",
              "    }\n",
              "</style>\n",
              "<table border=\"1\" class=\"dataframe\">\n",
              "  <thead>\n",
              "    <tr style=\"text-align: right;\">\n",
              "      <th></th>\n",
              "      <th>GAME_ID</th>\n",
              "      <th>AWAY_TEAM_ID</th>\n",
              "      <th>INN_CT</th>\n",
              "      <th>BAT_HOME_ID</th>\n",
              "      <th>OUTS_CT</th>\n",
              "      <th>BALLS_CT</th>\n",
              "      <th>STRIKES_CT</th>\n",
              "      <th>PITCH_SEQ_TX</th>\n",
              "      <th>AWAY_SCORE_CT</th>\n",
              "      <th>HOME_SCORE_CT</th>\n",
              "      <th>BAT_ID</th>\n",
              "      <th>BAT_HAND_CD</th>\n",
              "      <th>RESP_BAT_ID</th>\n",
              "      <th>RESP_BAT_HAND_CD</th>\n",
              "      <th>PIT_ID</th>\n",
              "      <th>PIT_HAND_CD</th>\n",
              "      <th>RESP_PIT_ID</th>\n",
              "      <th>RESP_PIT_HAND_CD</th>\n",
              "      <th>POS2_FLD_ID</th>\n",
              "      <th>POS3_FLD_ID</th>\n",
              "      <th>POS4_FLD_ID</th>\n",
              "      <th>POS5_FLD_ID</th>\n",
              "      <th>POS6_FLD_ID</th>\n",
              "      <th>POS7_FLD_ID</th>\n",
              "      <th>POS8_FLD_ID</th>\n",
              "      <th>POS9_FLD_ID</th>\n",
              "      <th>BASE1_RUN_ID</th>\n",
              "      <th>BASE2_RUN_ID</th>\n",
              "      <th>BASE3_RUN_ID</th>\n",
              "      <th>EVENT_TX</th>\n",
              "      <th>LEADOFF_FL</th>\n",
              "      <th>PH_FL</th>\n",
              "      <th>BAT_FLD_CD</th>\n",
              "      <th>BAT_LINEUP_ID</th>\n",
              "      <th>EVENT_CD</th>\n",
              "      <th>BAT_EVENT_FL</th>\n",
              "      <th>AB_FL</th>\n",
              "      <th>H_CD</th>\n",
              "      <th>SH_FL</th>\n",
              "      <th>SF_FL</th>\n",
              "      <th>...</th>\n",
              "      <th>RUN2_LINEUP_CD</th>\n",
              "      <th>RUN2_ORIGIN_EVENT_ID</th>\n",
              "      <th>RUN3_FLD_CD</th>\n",
              "      <th>RUN3_LINEUP_CD</th>\n",
              "      <th>RUN3_ORIGIN_EVENT_ID</th>\n",
              "      <th>RUN1_RESP_CAT_ID</th>\n",
              "      <th>RUN2_RESP_CAT_ID</th>\n",
              "      <th>RUN3_RESP_CAT_ID</th>\n",
              "      <th>PA_BALL_CT</th>\n",
              "      <th>PA_CALLED_BALL_CT</th>\n",
              "      <th>PA_INTENT_BALL_CT</th>\n",
              "      <th>PA_PITCHOUT_BALL_CT</th>\n",
              "      <th>PA_HITBATTER_BALL_CT</th>\n",
              "      <th>PA_OTHER_BALL_CT</th>\n",
              "      <th>PA_STRIKE_CT</th>\n",
              "      <th>PA_CALLED_STRIKE_CT</th>\n",
              "      <th>PA_SWINGMISS_STRIKE_CT</th>\n",
              "      <th>PA_FOUL_STRIKE_CT</th>\n",
              "      <th>PA_INPLAY_STRIKE_CT</th>\n",
              "      <th>PA_OTHER_STRIKE_CT</th>\n",
              "      <th>EVENT_RUNS_CT</th>\n",
              "      <th>FLD_ID</th>\n",
              "      <th>BASE2_FORCE_FL</th>\n",
              "      <th>BASE3_FORCE_FL</th>\n",
              "      <th>BASE4_FORCE_FL</th>\n",
              "      <th>BAT_SAFE_ERR_FL</th>\n",
              "      <th>BAT_FATE_ID</th>\n",
              "      <th>RUN1_FATE_ID</th>\n",
              "      <th>RUN2_FATE_ID</th>\n",
              "      <th>RUN3_FATE_ID</th>\n",
              "      <th>FATE_RUNS_CT</th>\n",
              "      <th>ASS6_FLD_CD</th>\n",
              "      <th>ASS7_FLD_CD</th>\n",
              "      <th>ASS8_FLD_CD</th>\n",
              "      <th>ASS9_FLD_CD</th>\n",
              "      <th>ASS10_FLD_CD</th>\n",
              "      <th>UNKNOWN_OUT_EXC_FL</th>\n",
              "      <th>UNCERTAIN_PLAY_EXC_FL</th>\n",
              "      <th>FILENAME_TX</th>\n",
              "      <th>LINE_NUMBER_CT</th>\n",
              "    </tr>\n",
              "  </thead>\n",
              "  <tbody>\n",
              "  </tbody>\n",
              "</table>\n",
              "<p>0 rows × 162 columns</p>\n",
              "</div>"
            ],
            "text/plain": [
              "Empty DataFrame\n",
              "Columns: [GAME_ID, AWAY_TEAM_ID, INN_CT, BAT_HOME_ID, OUTS_CT, BALLS_CT, STRIKES_CT, PITCH_SEQ_TX, AWAY_SCORE_CT, HOME_SCORE_CT, BAT_ID, BAT_HAND_CD, RESP_BAT_ID, RESP_BAT_HAND_CD, PIT_ID, PIT_HAND_CD, RESP_PIT_ID, RESP_PIT_HAND_CD, POS2_FLD_ID, POS3_FLD_ID, POS4_FLD_ID, POS5_FLD_ID, POS6_FLD_ID, POS7_FLD_ID, POS8_FLD_ID, POS9_FLD_ID, BASE1_RUN_ID, BASE2_RUN_ID, BASE3_RUN_ID, EVENT_TX, LEADOFF_FL, PH_FL, BAT_FLD_CD, BAT_LINEUP_ID, EVENT_CD, BAT_EVENT_FL, AB_FL, H_CD, SH_FL, SF_FL, EVENT_OUTS_CT, DP_FL, TP_FL, RBI_CT, WP_FL, PB_FL, FLD_CD, BATTEDBALL_CD, BUNT_FL, FOUL_FL, BATTEDBALL_LOC_TX, ERR_CT, ERR1_FLD_CD, ERR1_CD, ERR2_FLD_CD, ERR2_CD, ERR3_FLD_CD, ERR3_CD, BAT_DEST_ID, RUN1_DEST_ID, RUN2_DEST_ID, RUN3_DEST_ID, BAT_PLAY_TX, RUN1_PLAY_TX, RUN2_PLAY_TX, RUN3_PLAY_TX, RUN1_SB_FL, RUN2_SB_FL, RUN3_SB_FL, RUN1_CS_FL, RUN2_CS_FL, RUN3_CS_FL, RUN1_PK_FL, RUN2_PK_FL, RUN3_PK_FL, RUN1_RESP_PIT_ID, RUN2_RESP_PIT_ID, RUN3_RESP_PIT_ID, GAME_NEW_FL, GAME_END_FL, PR_RUN1_FL, PR_RUN2_FL, PR_RUN3_FL, REMOVED_FOR_PR_RUN1_ID, REMOVED_FOR_PR_RUN2_ID, REMOVED_FOR_PR_RUN3_ID, REMOVED_FOR_PH_BAT_ID, REMOVED_FOR_PH_BAT_FLD_CD, PO1_FLD_CD, PO2_FLD_CD, PO3_FLD_CD, ASS1_FLD_CD, ASS2_FLD_CD, ASS3_FLD_CD, ASS4_FLD_CD, ASS5_FLD_CD, EVENT_ID, HOME_TEAM_ID, BAT_TEAM_ID, FLD_TEAM_ID, ...]\n",
              "Index: []\n",
              "\n",
              "[0 rows x 162 columns]"
            ]
          },
          "metadata": {},
          "execution_count": 2
        }
      ]
    },
    {
      "cell_type": "code",
      "metadata": {
        "id": "DWPmeBDj6NEv"
      },
      "source": [
        "# req_years_min = 2011\n",
        "# req_years_max = 2015\n",
        "\n",
        "# for i in range(1, 6):\n",
        "#     print(\"Processing file number\", i)\n",
        "#     df = pd.read_csv(dir_path + f\"events.csv.0{i}\", header=None)\n",
        "#     df.columns = df0.columns\n",
        "#     cond = df[\"GAME_ID\"].apply(lambda x: req_years_min <= int(x[3:7]) <= req_years_max)\n",
        "#     df[cond].to_csv(dir_path + f\"req_events_0{i}_stage0.csv\", index=False)\n",
        "#     del df"
      ],
      "execution_count": null,
      "outputs": []
    },
    {
      "cell_type": "code",
      "metadata": {
        "colab": {
          "base_uri": "https://localhost:8080/",
          "height": 206
        },
        "id": "bgROckyfwpHE",
        "outputId": "bef77168-0971-41f7-a066-a8016a6a078c"
      },
      "source": [
        "cols_df = pd.DataFrame()\n",
        "cols_df[\"col_name\"] = np.array(df0.columns)\n",
        "cols_df[\"required\"] = False\n",
        "cols_df.to_csv(dir_path + \"cols.csv\", index=False)\n",
        "cols_df.head()"
      ],
      "execution_count": null,
      "outputs": [
        {
          "output_type": "execute_result",
          "data": {
            "text/html": [
              "<div>\n",
              "<style scoped>\n",
              "    .dataframe tbody tr th:only-of-type {\n",
              "        vertical-align: middle;\n",
              "    }\n",
              "\n",
              "    .dataframe tbody tr th {\n",
              "        vertical-align: top;\n",
              "    }\n",
              "\n",
              "    .dataframe thead th {\n",
              "        text-align: right;\n",
              "    }\n",
              "</style>\n",
              "<table border=\"1\" class=\"dataframe\">\n",
              "  <thead>\n",
              "    <tr style=\"text-align: right;\">\n",
              "      <th></th>\n",
              "      <th>col_name</th>\n",
              "      <th>required</th>\n",
              "    </tr>\n",
              "  </thead>\n",
              "  <tbody>\n",
              "    <tr>\n",
              "      <th>0</th>\n",
              "      <td>GAME_ID</td>\n",
              "      <td>False</td>\n",
              "    </tr>\n",
              "    <tr>\n",
              "      <th>1</th>\n",
              "      <td>AWAY_TEAM_ID</td>\n",
              "      <td>False</td>\n",
              "    </tr>\n",
              "    <tr>\n",
              "      <th>2</th>\n",
              "      <td>INN_CT</td>\n",
              "      <td>False</td>\n",
              "    </tr>\n",
              "    <tr>\n",
              "      <th>3</th>\n",
              "      <td>BAT_HOME_ID</td>\n",
              "      <td>False</td>\n",
              "    </tr>\n",
              "    <tr>\n",
              "      <th>4</th>\n",
              "      <td>OUTS_CT</td>\n",
              "      <td>False</td>\n",
              "    </tr>\n",
              "  </tbody>\n",
              "</table>\n",
              "</div>"
            ],
            "text/plain": [
              "       col_name  required\n",
              "0       GAME_ID     False\n",
              "1  AWAY_TEAM_ID     False\n",
              "2        INN_CT     False\n",
              "3   BAT_HOME_ID     False\n",
              "4       OUTS_CT     False"
            ]
          },
          "metadata": {},
          "execution_count": 4
        }
      ]
    },
    {
      "cell_type": "code",
      "metadata": {
        "colab": {
          "base_uri": "https://localhost:8080/"
        },
        "id": "1gpoUBIU960U",
        "outputId": "a5602982-5f4b-41d9-aa6b-db022351c1f4"
      },
      "source": [
        "req_cols_df = pd.read_csv(dir_path + \"req_events_cols.csv\")\n",
        "req_cols = req_cols_df.loc[req_cols_df[\"required\"], \"col_name\"].values\n",
        "req_cols"
      ],
      "execution_count": null,
      "outputs": [
        {
          "output_type": "execute_result",
          "data": {
            "text/plain": [
              "array(['GAME_ID', 'INN_CT', 'OUTS_CT', 'BALLS_CT', 'STRIKES_CT',\n",
              "       'AWAY_SCORE_CT', 'HOME_SCORE_CT', 'BAT_ID', 'PIT_ID', 'EVENT_CD',\n",
              "       'EVENT_ID'], dtype=object)"
            ]
          },
          "metadata": {},
          "execution_count": 5
        }
      ]
    },
    {
      "cell_type": "code",
      "metadata": {
        "id": "_4G98IGmxnnR"
      },
      "source": [
        "req_event_codes = [2, 3, 4, 14, 15, 16, 18, 20, 21, 22, 23]"
      ],
      "execution_count": null,
      "outputs": []
    },
    {
      "cell_type": "code",
      "metadata": {
        "id": "CcIqPG9QH1TQ",
        "colab": {
          "base_uri": "https://localhost:8080/"
        },
        "outputId": "d1ebe388-6617-495f-ddf9-b7b71cf80518"
      },
      "source": [
        "for i in range(1, 6):\n",
        "    print(\"Processing file number\", i)\n",
        "    df = pd.read_csv(dir_path + f\"years_2011_to_2015/stage0_req_events_0{i}.csv\")\n",
        "    df = df[req_cols]\n",
        "    df = df[df[\"EVENT_CD\"].isin(req_event_codes)]\n",
        "    df.to_csv(dir_path + f\"years_2011_to_2015/stage1_req_events_0{i}.csv\", index=False)"
      ],
      "execution_count": null,
      "outputs": [
        {
          "output_type": "stream",
          "name": "stdout",
          "text": [
            "Processing file number 1\n"
          ]
        },
        {
          "output_type": "stream",
          "name": "stderr",
          "text": [
            "/usr/local/lib/python3.7/dist-packages/IPython/core/interactiveshell.py:2718: DtypeWarning: Columns (63,64,65,84,85) have mixed types.Specify dtype option on import or set low_memory=False.\n",
            "  interactivity=interactivity, compiler=compiler, result=result)\n"
          ]
        },
        {
          "output_type": "stream",
          "name": "stdout",
          "text": [
            "Processing file number 2\n",
            "Processing file number 3\n",
            "Processing file number 4\n"
          ]
        },
        {
          "output_type": "stream",
          "name": "stderr",
          "text": [
            "/usr/local/lib/python3.7/dist-packages/IPython/core/interactiveshell.py:2718: DtypeWarning: Columns (63,64,65,85) have mixed types.Specify dtype option on import or set low_memory=False.\n",
            "  interactivity=interactivity, compiler=compiler, result=result)\n"
          ]
        },
        {
          "output_type": "stream",
          "name": "stdout",
          "text": [
            "Processing file number 5\n"
          ]
        },
        {
          "output_type": "stream",
          "name": "stderr",
          "text": [
            "/usr/local/lib/python3.7/dist-packages/IPython/core/interactiveshell.py:2718: DtypeWarning: Columns (63,64,84,85) have mixed types.Specify dtype option on import or set low_memory=False.\n",
            "  interactivity=interactivity, compiler=compiler, result=result)\n"
          ]
        }
      ]
    },
    {
      "cell_type": "code",
      "metadata": {
        "id": "4TQ5OYH00VVj"
      },
      "source": [
        "game_id_df = pd.read_csv(dir_path + \"gameID.csv\")\n",
        "game_id_dict = dict()\n",
        "for indx, row in game_id_df.iterrows():\n",
        "    game_id_dict[row[\"GameID\"]] = row[\"ID\"]\n",
        "\n",
        "player_id_df = pd.read_csv(dir_path + \"playerretroID.csv\")\n",
        "player_id_dict = dict()\n",
        "for indx, row in player_id_df.iterrows():\n",
        "    player_id_dict[row[\"retroID\"]] = row[\"ID\"]\n",
        "\n",
        "event_codes_df = pd.read_csv(dir_path + \"event_codes.csv\")\n",
        "event_codes_dict = dict()\n",
        "for indx, row in event_codes_df.iterrows():\n",
        "    event_codes_dict[row[\"Code\"]] = row[\"Meaning\"]"
      ],
      "execution_count": null,
      "outputs": []
    },
    {
      "cell_type": "code",
      "metadata": {
        "colab": {
          "base_uri": "https://localhost:8080/"
        },
        "id": "mW_jcBxN35x2",
        "outputId": "c94b4ba4-5849-4eed-ff43-3278aafeb2dc"
      },
      "source": [
        "concat_df = pd.DataFrame()\n",
        "\n",
        "for i in range(1, 6):\n",
        "    print(\"Processing file number\", i)\n",
        "    df = pd.read_csv(dir_path + f\"years_2011_to_2015/stage1_req_events_0{i}.csv\")\n",
        "\n",
        "    df[\"GAME_ID\"] = df[\"GAME_ID\"].apply(lambda x: game_id_dict[x])\n",
        "    df[\"BAT_ID\"] = df[\"BAT_ID\"].apply(lambda x: player_id_dict[x])\n",
        "    df[\"PIT_ID\"] = df[\"PIT_ID\"].apply(lambda x: player_id_dict[x])\n",
        "    df[\"EVENT_CD\"] = df[\"EVENT_CD\"].apply(lambda x: event_codes_dict[x])\n",
        "\n",
        "    concat_df = pd.concat((concat_df, df))"
      ],
      "execution_count": null,
      "outputs": [
        {
          "output_type": "stream",
          "name": "stdout",
          "text": [
            "Processing file number 1\n",
            "Processing file number 2\n",
            "Processing file number 3\n",
            "Processing file number 4\n",
            "Processing file number 5\n"
          ]
        }
      ]
    },
    {
      "cell_type": "code",
      "metadata": {
        "colab": {
          "base_uri": "https://localhost:8080/"
        },
        "id": "b9MDC_bl-wlL",
        "outputId": "f1edcd75-3bab-4340-983b-3dd5e8c99354"
      },
      "source": [
        "concat_df.isna().sum()"
      ],
      "execution_count": null,
      "outputs": [
        {
          "output_type": "execute_result",
          "data": {
            "text/plain": [
              "GAME_ID          0\n",
              "INN_CT           0\n",
              "OUTS_CT          0\n",
              "BALLS_CT         0\n",
              "STRIKES_CT       0\n",
              "AWAY_SCORE_CT    0\n",
              "HOME_SCORE_CT    0\n",
              "BAT_ID           0\n",
              "PIT_ID           0\n",
              "EVENT_CD         0\n",
              "EVENT_ID         0\n",
              "dtype: int64"
            ]
          },
          "metadata": {},
          "execution_count": 33
        }
      ]
    },
    {
      "cell_type": "code",
      "metadata": {
        "id": "EoDXOS1X_Zuz"
      },
      "source": [
        "concat_df = concat_df[[\"GAME_ID\", \"EVENT_ID\", \"HOME_SCORE_CT\", \"AWAY_SCORE_CT\",\n",
        "                       \"BAT_ID\", \"PIT_ID\", \"STRIKES_CT\", \"BALLS_CT\",\n",
        "                       \"OUTS_CT\", \"INN_CT\", \"EVENT_CD\"]]\n",
        "concat_df.columns = [\"GameID\", \"EventID\", \"HomeScore\", \"AwayScore\", \"Batter\", \n",
        "                     \"Pitcher\", \"Strikes\", \"Balls\", \"Outs\", \"Innings\", \"EventType\"]\n",
        "\n",
        "concat_df.to_csv(dir_path + \"years_2011_to_2015/events.csv\", index=False)"
      ],
      "execution_count": null,
      "outputs": []
    },
    {
      "cell_type": "code",
      "metadata": {
        "id": "-2TlilzEHdGE"
      },
      "source": [
        "events_comments_df = pd.read_csv(dir_path + \"comments.csv\")\n",
        "\n",
        "game_id_df = pd.read_csv(dir_path + \"gameID.csv\")\n",
        "game_id_dict = dict()\n",
        "for indx, row in game_id_df.iterrows():\n",
        "    game_id_dict[row[\"GameID\"]] = row[\"ID\"]\n",
        "\n",
        "# events_df = game_id_df.merge(events_df, left_on=[\"ID\"], right_on=[\"GameID\"])\n",
        "# events_2015_df = events_df[events_df[\"GameID_x\"].apply(lambda x: int(x[3:7]) == 2015)].copy()\n",
        "# events_2015_df.drop(columns=[\"GameID_x\", \"GameID_y\"], inplace=True)\n",
        "# events_2015_df.rename(columns={\"ID\":\"GameID\"}, inplace=True)\n",
        "# events_2015_df[\"EventType\"] = events_2015_df[\"EventType\"].apply(lambda x: x.strip())\n",
        "# events_2015_df.to_csv(dir_path + \"years_2011_to_2015/events_2015.csv\", index=False)\n",
        "\n",
        "events_comments_df[\"GAME_ID\"] = events_comments_df[\"GAME_ID\"].apply(lambda x: game_id_dict[x] if x in game_id_dict else None)\n",
        "events_comments_df.dropna(subset={\"GAME_ID\"}, inplace=True)\n",
        "events_comments_df[\"GAME_ID\"] = events_comments_df[\"GAME_ID\"].astype(int)\n",
        "events_comments_df = events_comments_df.iloc[:,:3]\n",
        "events_comments_df.columns = [\"GameID\", \"EventID\", \"Comment\"]\n",
        "events_comments_df.to_csv(dir_path + \"years_2011_to_2015/events_comments.csv\", index=False)"
      ],
      "execution_count": null,
      "outputs": []
    },
    {
      "cell_type": "code",
      "metadata": {
        "id": "IgvgNnsQb8R-"
      },
      "source": [
        ""
      ],
      "execution_count": null,
      "outputs": []
    }
  ]
}